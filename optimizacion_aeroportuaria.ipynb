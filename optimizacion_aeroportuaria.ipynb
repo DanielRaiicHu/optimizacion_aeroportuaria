{
  "nbformat": 4,
  "nbformat_minor": 0,
  "metadata": {
    "colab": {
      "provenance": [],
      "toc_visible": true,
      "authorship_tag": "ABX9TyNTYfLTpr+mNZMcjp28Xh3v"
    },
    "kernelspec": {
      "name": "python3",
      "display_name": "Python 3"
    },
    "language_info": {
      "name": "python"
    }
  },
  "cells": [
    {
      "cell_type": "markdown",
      "source": [
        "<a href=\"https://colab.research.google.com/github/DanielRaiicHu/optimizacion_aeroportuaria/blob/main/optimizacion_aeroportuaria.ipynb?forceRefresh=true\">\n",
        "  <img src=\"https://drive.google.com/uc?export=view&id=191Woxwut0iaIL2hCcCIeXRSB6oba_88H\" alt=\"Abrir en Colab\" width=\"120\"/>\n",
        "</a>"
      ],
      "metadata": {
        "id": "TJvbZ-GdavUs"
      }
    },
    {
      "cell_type": "markdown",
      "source": [
        "# <font color='#0C4AC6'>**Optimización Aeroportuaria**</h1>"
      ],
      "metadata": {
        "id": "XXtBoB8UbD2R"
      }
    },
    {
      "cell_type": "markdown",
      "source": [
        "## <font color='#276CF2'>**1. Explorando los datos**</h2>\n",
        "\n"
      ],
      "metadata": {
        "id": "cKUjhsjla6G6"
      }
    },
    {
      "cell_type": "markdown",
      "source": [
        "### <font color='#6595F6'>**Entendiendo el conjunto de datos**</h3>\n"
      ],
      "metadata": {
        "id": "D2r8d5kPsdgB"
      }
    },
    {
      "cell_type": "code",
      "execution_count": 35,
      "metadata": {
        "id": "08nkbAMgakLf",
        "outputId": "9264fc3f-ee8c-4887-f1c0-553f6312e8df",
        "colab": {
          "base_uri": "https://localhost:8080/"
        }
      },
      "outputs": [
        {
          "output_type": "stream",
          "name": "stdout",
          "text": [
            "Versión de pandas: 2.2.2\n",
            "Versión de numpy: 2.0.2\n",
            "Versión de scikit-learn (sklearn): 1.6.1\n",
            "Versión de seaborn: 0.13.2\n",
            "Versión de yellowbrick: 1.5\n"
          ]
        }
      ],
      "source": [
        "import pandas as pd\n",
        "import numpy as np\n",
        "import sklearn\n",
        "import seaborn as sns\n",
        "import yellowbrick\n",
        "\n",
        "print(f'Versión de pandas: {pd.__version__}')\n",
        "print(f'Versión de numpy: {np.__version__}')\n",
        "print(f'Versión de scikit-learn (sklearn): {sklearn.__version__}')\n",
        "print(f'Versión de seaborn: {sns.__version__}')\n",
        "print(f'Versión de yellowbrick: {yellowbrick.__version__}')"
      ]
    },
    {
      "cell_type": "code",
      "source": [
        "url = 'https://raw.githubusercontent.com/DanielRaiicHu/optimizacion_aeroportuaria/main/flights.csv'\n",
        "\n",
        "# Lectura del archivo CSV y almacenamiento en el DataFrame 'datos'\n",
        "datos = pd.read_csv(url)\n",
        "\n",
        "# Verificación del tamaño del DataFrame\n",
        "datos.shape # filas: 71175, columnas: 11"
      ],
      "metadata": {
        "colab": {
          "base_uri": "https://localhost:8080/"
        },
        "id": "xSHl4TuGbN4Y",
        "outputId": "f531618f-4cbd-4f2e-e5ec-2e0572d7186b"
      },
      "execution_count": 36,
      "outputs": [
        {
          "output_type": "execute_result",
          "data": {
            "text/plain": [
              "(71175, 11)"
            ]
          },
          "metadata": {},
          "execution_count": 36
        }
      ]
    },
    {
      "cell_type": "code",
      "source": [
        "datos.head()\n",
        "# flight_id: id del vuelo\n",
        "# airline: aerolínea\n",
        "# aircraft_type: tipo de aeronave\n",
        "# schengen: indica si el origen pertenece al espacio Schengen\n",
        "# origin: aeropuerto de origen\n",
        "# arrival_time: hora de llegada (en formato decimal)\n",
        "# departure_time: hora de salida (en formato decimal)\n",
        "# day: día del año (1 a 365)\n",
        "# year: año del vuelo\n",
        "# is_holiday: indica si el día es festivo\n",
        "# delay: retraso del vuelo en minutos.segundos"
      ],
      "metadata": {
        "colab": {
          "base_uri": "https://localhost:8080/",
          "height": 206
        },
        "id": "BWSPR27HlaMa",
        "outputId": "baea9df6-97af-4817-be7d-a7301150dba0"
      },
      "execution_count": 37,
      "outputs": [
        {
          "output_type": "execute_result",
          "data": {
            "text/plain": [
              "   flight_id airline aircraft_type      schengen origin  arrival_time  \\\n",
              "0         26      MM   Airbus A320  non-schengen    TCY      8.885071   \n",
              "1         10      YE   Airbus A320  non-schengen    TCY      8.939996   \n",
              "2          3      BZ  Embraer E175      schengen    TZF     18.635384   \n",
              "3         28      BZ   Airbus A330  non-schengen    EMM     15.967963   \n",
              "4         15      BZ   Airbus A330  non-schengen    FJB     16.571894   \n",
              "\n",
              "   departure_time  day  year  is_holiday      delay  \n",
              "0       10.885071    0  2010       False  70.205981  \n",
              "1       11.939996    0  2010       False  38.484609  \n",
              "2       22.635384    0  2010       False   2.388305  \n",
              "3       17.967963    0  2010       False  19.138491  \n",
              "4       19.571894    0  2010       False  15.016271  "
            ],
            "text/html": [
              "\n",
              "  <div id=\"df-7d6da82d-88f4-440a-8b64-eb3a665e0a20\" class=\"colab-df-container\">\n",
              "    <div>\n",
              "<style scoped>\n",
              "    .dataframe tbody tr th:only-of-type {\n",
              "        vertical-align: middle;\n",
              "    }\n",
              "\n",
              "    .dataframe tbody tr th {\n",
              "        vertical-align: top;\n",
              "    }\n",
              "\n",
              "    .dataframe thead th {\n",
              "        text-align: right;\n",
              "    }\n",
              "</style>\n",
              "<table border=\"1\" class=\"dataframe\">\n",
              "  <thead>\n",
              "    <tr style=\"text-align: right;\">\n",
              "      <th></th>\n",
              "      <th>flight_id</th>\n",
              "      <th>airline</th>\n",
              "      <th>aircraft_type</th>\n",
              "      <th>schengen</th>\n",
              "      <th>origin</th>\n",
              "      <th>arrival_time</th>\n",
              "      <th>departure_time</th>\n",
              "      <th>day</th>\n",
              "      <th>year</th>\n",
              "      <th>is_holiday</th>\n",
              "      <th>delay</th>\n",
              "    </tr>\n",
              "  </thead>\n",
              "  <tbody>\n",
              "    <tr>\n",
              "      <th>0</th>\n",
              "      <td>26</td>\n",
              "      <td>MM</td>\n",
              "      <td>Airbus A320</td>\n",
              "      <td>non-schengen</td>\n",
              "      <td>TCY</td>\n",
              "      <td>8.885071</td>\n",
              "      <td>10.885071</td>\n",
              "      <td>0</td>\n",
              "      <td>2010</td>\n",
              "      <td>False</td>\n",
              "      <td>70.205981</td>\n",
              "    </tr>\n",
              "    <tr>\n",
              "      <th>1</th>\n",
              "      <td>10</td>\n",
              "      <td>YE</td>\n",
              "      <td>Airbus A320</td>\n",
              "      <td>non-schengen</td>\n",
              "      <td>TCY</td>\n",
              "      <td>8.939996</td>\n",
              "      <td>11.939996</td>\n",
              "      <td>0</td>\n",
              "      <td>2010</td>\n",
              "      <td>False</td>\n",
              "      <td>38.484609</td>\n",
              "    </tr>\n",
              "    <tr>\n",
              "      <th>2</th>\n",
              "      <td>3</td>\n",
              "      <td>BZ</td>\n",
              "      <td>Embraer E175</td>\n",
              "      <td>schengen</td>\n",
              "      <td>TZF</td>\n",
              "      <td>18.635384</td>\n",
              "      <td>22.635384</td>\n",
              "      <td>0</td>\n",
              "      <td>2010</td>\n",
              "      <td>False</td>\n",
              "      <td>2.388305</td>\n",
              "    </tr>\n",
              "    <tr>\n",
              "      <th>3</th>\n",
              "      <td>28</td>\n",
              "      <td>BZ</td>\n",
              "      <td>Airbus A330</td>\n",
              "      <td>non-schengen</td>\n",
              "      <td>EMM</td>\n",
              "      <td>15.967963</td>\n",
              "      <td>17.967963</td>\n",
              "      <td>0</td>\n",
              "      <td>2010</td>\n",
              "      <td>False</td>\n",
              "      <td>19.138491</td>\n",
              "    </tr>\n",
              "    <tr>\n",
              "      <th>4</th>\n",
              "      <td>15</td>\n",
              "      <td>BZ</td>\n",
              "      <td>Airbus A330</td>\n",
              "      <td>non-schengen</td>\n",
              "      <td>FJB</td>\n",
              "      <td>16.571894</td>\n",
              "      <td>19.571894</td>\n",
              "      <td>0</td>\n",
              "      <td>2010</td>\n",
              "      <td>False</td>\n",
              "      <td>15.016271</td>\n",
              "    </tr>\n",
              "  </tbody>\n",
              "</table>\n",
              "</div>\n",
              "    <div class=\"colab-df-buttons\">\n",
              "\n",
              "  <div class=\"colab-df-container\">\n",
              "    <button class=\"colab-df-convert\" onclick=\"convertToInteractive('df-7d6da82d-88f4-440a-8b64-eb3a665e0a20')\"\n",
              "            title=\"Convert this dataframe to an interactive table.\"\n",
              "            style=\"display:none;\">\n",
              "\n",
              "  <svg xmlns=\"http://www.w3.org/2000/svg\" height=\"24px\" viewBox=\"0 -960 960 960\">\n",
              "    <path d=\"M120-120v-720h720v720H120Zm60-500h600v-160H180v160Zm220 220h160v-160H400v160Zm0 220h160v-160H400v160ZM180-400h160v-160H180v160Zm440 0h160v-160H620v160ZM180-180h160v-160H180v160Zm440 0h160v-160H620v160Z\"/>\n",
              "  </svg>\n",
              "    </button>\n",
              "\n",
              "  <style>\n",
              "    .colab-df-container {\n",
              "      display:flex;\n",
              "      gap: 12px;\n",
              "    }\n",
              "\n",
              "    .colab-df-convert {\n",
              "      background-color: #E8F0FE;\n",
              "      border: none;\n",
              "      border-radius: 50%;\n",
              "      cursor: pointer;\n",
              "      display: none;\n",
              "      fill: #1967D2;\n",
              "      height: 32px;\n",
              "      padding: 0 0 0 0;\n",
              "      width: 32px;\n",
              "    }\n",
              "\n",
              "    .colab-df-convert:hover {\n",
              "      background-color: #E2EBFA;\n",
              "      box-shadow: 0px 1px 2px rgba(60, 64, 67, 0.3), 0px 1px 3px 1px rgba(60, 64, 67, 0.15);\n",
              "      fill: #174EA6;\n",
              "    }\n",
              "\n",
              "    .colab-df-buttons div {\n",
              "      margin-bottom: 4px;\n",
              "    }\n",
              "\n",
              "    [theme=dark] .colab-df-convert {\n",
              "      background-color: #3B4455;\n",
              "      fill: #D2E3FC;\n",
              "    }\n",
              "\n",
              "    [theme=dark] .colab-df-convert:hover {\n",
              "      background-color: #434B5C;\n",
              "      box-shadow: 0px 1px 3px 1px rgba(0, 0, 0, 0.15);\n",
              "      filter: drop-shadow(0px 1px 2px rgba(0, 0, 0, 0.3));\n",
              "      fill: #FFFFFF;\n",
              "    }\n",
              "  </style>\n",
              "\n",
              "    <script>\n",
              "      const buttonEl =\n",
              "        document.querySelector('#df-7d6da82d-88f4-440a-8b64-eb3a665e0a20 button.colab-df-convert');\n",
              "      buttonEl.style.display =\n",
              "        google.colab.kernel.accessAllowed ? 'block' : 'none';\n",
              "\n",
              "      async function convertToInteractive(key) {\n",
              "        const element = document.querySelector('#df-7d6da82d-88f4-440a-8b64-eb3a665e0a20');\n",
              "        const dataTable =\n",
              "          await google.colab.kernel.invokeFunction('convertToInteractive',\n",
              "                                                    [key], {});\n",
              "        if (!dataTable) return;\n",
              "\n",
              "        const docLinkHtml = 'Like what you see? Visit the ' +\n",
              "          '<a target=\"_blank\" href=https://colab.research.google.com/notebooks/data_table.ipynb>data table notebook</a>'\n",
              "          + ' to learn more about interactive tables.';\n",
              "        element.innerHTML = '';\n",
              "        dataTable['output_type'] = 'display_data';\n",
              "        await google.colab.output.renderOutput(dataTable, element);\n",
              "        const docLink = document.createElement('div');\n",
              "        docLink.innerHTML = docLinkHtml;\n",
              "        element.appendChild(docLink);\n",
              "      }\n",
              "    </script>\n",
              "  </div>\n",
              "\n",
              "\n",
              "    <div id=\"df-67e4799a-a52d-4f83-bf18-1b0927e5599b\">\n",
              "      <button class=\"colab-df-quickchart\" onclick=\"quickchart('df-67e4799a-a52d-4f83-bf18-1b0927e5599b')\"\n",
              "                title=\"Suggest charts\"\n",
              "                style=\"display:none;\">\n",
              "\n",
              "<svg xmlns=\"http://www.w3.org/2000/svg\" height=\"24px\"viewBox=\"0 0 24 24\"\n",
              "     width=\"24px\">\n",
              "    <g>\n",
              "        <path d=\"M19 3H5c-1.1 0-2 .9-2 2v14c0 1.1.9 2 2 2h14c1.1 0 2-.9 2-2V5c0-1.1-.9-2-2-2zM9 17H7v-7h2v7zm4 0h-2V7h2v10zm4 0h-2v-4h2v4z\"/>\n",
              "    </g>\n",
              "</svg>\n",
              "      </button>\n",
              "\n",
              "<style>\n",
              "  .colab-df-quickchart {\n",
              "      --bg-color: #E8F0FE;\n",
              "      --fill-color: #1967D2;\n",
              "      --hover-bg-color: #E2EBFA;\n",
              "      --hover-fill-color: #174EA6;\n",
              "      --disabled-fill-color: #AAA;\n",
              "      --disabled-bg-color: #DDD;\n",
              "  }\n",
              "\n",
              "  [theme=dark] .colab-df-quickchart {\n",
              "      --bg-color: #3B4455;\n",
              "      --fill-color: #D2E3FC;\n",
              "      --hover-bg-color: #434B5C;\n",
              "      --hover-fill-color: #FFFFFF;\n",
              "      --disabled-bg-color: #3B4455;\n",
              "      --disabled-fill-color: #666;\n",
              "  }\n",
              "\n",
              "  .colab-df-quickchart {\n",
              "    background-color: var(--bg-color);\n",
              "    border: none;\n",
              "    border-radius: 50%;\n",
              "    cursor: pointer;\n",
              "    display: none;\n",
              "    fill: var(--fill-color);\n",
              "    height: 32px;\n",
              "    padding: 0;\n",
              "    width: 32px;\n",
              "  }\n",
              "\n",
              "  .colab-df-quickchart:hover {\n",
              "    background-color: var(--hover-bg-color);\n",
              "    box-shadow: 0 1px 2px rgba(60, 64, 67, 0.3), 0 1px 3px 1px rgba(60, 64, 67, 0.15);\n",
              "    fill: var(--button-hover-fill-color);\n",
              "  }\n",
              "\n",
              "  .colab-df-quickchart-complete:disabled,\n",
              "  .colab-df-quickchart-complete:disabled:hover {\n",
              "    background-color: var(--disabled-bg-color);\n",
              "    fill: var(--disabled-fill-color);\n",
              "    box-shadow: none;\n",
              "  }\n",
              "\n",
              "  .colab-df-spinner {\n",
              "    border: 2px solid var(--fill-color);\n",
              "    border-color: transparent;\n",
              "    border-bottom-color: var(--fill-color);\n",
              "    animation:\n",
              "      spin 1s steps(1) infinite;\n",
              "  }\n",
              "\n",
              "  @keyframes spin {\n",
              "    0% {\n",
              "      border-color: transparent;\n",
              "      border-bottom-color: var(--fill-color);\n",
              "      border-left-color: var(--fill-color);\n",
              "    }\n",
              "    20% {\n",
              "      border-color: transparent;\n",
              "      border-left-color: var(--fill-color);\n",
              "      border-top-color: var(--fill-color);\n",
              "    }\n",
              "    30% {\n",
              "      border-color: transparent;\n",
              "      border-left-color: var(--fill-color);\n",
              "      border-top-color: var(--fill-color);\n",
              "      border-right-color: var(--fill-color);\n",
              "    }\n",
              "    40% {\n",
              "      border-color: transparent;\n",
              "      border-right-color: var(--fill-color);\n",
              "      border-top-color: var(--fill-color);\n",
              "    }\n",
              "    60% {\n",
              "      border-color: transparent;\n",
              "      border-right-color: var(--fill-color);\n",
              "    }\n",
              "    80% {\n",
              "      border-color: transparent;\n",
              "      border-right-color: var(--fill-color);\n",
              "      border-bottom-color: var(--fill-color);\n",
              "    }\n",
              "    90% {\n",
              "      border-color: transparent;\n",
              "      border-bottom-color: var(--fill-color);\n",
              "    }\n",
              "  }\n",
              "</style>\n",
              "\n",
              "      <script>\n",
              "        async function quickchart(key) {\n",
              "          const quickchartButtonEl =\n",
              "            document.querySelector('#' + key + ' button');\n",
              "          quickchartButtonEl.disabled = true;  // To prevent multiple clicks.\n",
              "          quickchartButtonEl.classList.add('colab-df-spinner');\n",
              "          try {\n",
              "            const charts = await google.colab.kernel.invokeFunction(\n",
              "                'suggestCharts', [key], {});\n",
              "          } catch (error) {\n",
              "            console.error('Error during call to suggestCharts:', error);\n",
              "          }\n",
              "          quickchartButtonEl.classList.remove('colab-df-spinner');\n",
              "          quickchartButtonEl.classList.add('colab-df-quickchart-complete');\n",
              "        }\n",
              "        (() => {\n",
              "          let quickchartButtonEl =\n",
              "            document.querySelector('#df-67e4799a-a52d-4f83-bf18-1b0927e5599b button');\n",
              "          quickchartButtonEl.style.display =\n",
              "            google.colab.kernel.accessAllowed ? 'block' : 'none';\n",
              "        })();\n",
              "      </script>\n",
              "    </div>\n",
              "\n",
              "    </div>\n",
              "  </div>\n"
            ],
            "application/vnd.google.colaboratory.intrinsic+json": {
              "type": "dataframe",
              "summary": "{\n  \"name\": \"# delay: retraso del vuelo en minutos\",\n  \"rows\": 5,\n  \"fields\": [\n    {\n      \"column\": \"flight_id\",\n      \"properties\": {\n        \"dtype\": \"number\",\n        \"std\": 10,\n        \"min\": 3,\n        \"max\": 28,\n        \"num_unique_values\": 5,\n        \"samples\": [\n          10,\n          15,\n          3\n        ],\n        \"semantic_type\": \"\",\n        \"description\": \"\"\n      }\n    },\n    {\n      \"column\": \"airline\",\n      \"properties\": {\n        \"dtype\": \"string\",\n        \"num_unique_values\": 3,\n        \"samples\": [\n          \"MM\",\n          \"YE\",\n          \"BZ\"\n        ],\n        \"semantic_type\": \"\",\n        \"description\": \"\"\n      }\n    },\n    {\n      \"column\": \"aircraft_type\",\n      \"properties\": {\n        \"dtype\": \"string\",\n        \"num_unique_values\": 3,\n        \"samples\": [\n          \"Airbus A320\",\n          \"Embraer E175\",\n          \"Airbus A330\"\n        ],\n        \"semantic_type\": \"\",\n        \"description\": \"\"\n      }\n    },\n    {\n      \"column\": \"schengen\",\n      \"properties\": {\n        \"dtype\": \"category\",\n        \"num_unique_values\": 2,\n        \"samples\": [\n          \"schengen\",\n          \"non-schengen\"\n        ],\n        \"semantic_type\": \"\",\n        \"description\": \"\"\n      }\n    },\n    {\n      \"column\": \"origin\",\n      \"properties\": {\n        \"dtype\": \"string\",\n        \"num_unique_values\": 4,\n        \"samples\": [\n          \"TZF\",\n          \"FJB\"\n        ],\n        \"semantic_type\": \"\",\n        \"description\": \"\"\n      }\n    },\n    {\n      \"column\": \"arrival_time\",\n      \"properties\": {\n        \"dtype\": \"number\",\n        \"std\": 4.570026385983327,\n        \"min\": 8.885071100621527,\n        \"max\": 18.63538375746072,\n        \"num_unique_values\": 5,\n        \"samples\": [\n          8.93999569161395,\n          16.571894330137862\n        ],\n        \"semantic_type\": \"\",\n        \"description\": \"\"\n      }\n    },\n    {\n      \"column\": \"departure_time\",\n      \"properties\": {\n        \"dtype\": \"number\",\n        \"std\": 5.037494107824606,\n        \"min\": 10.885071100621529,\n        \"max\": 22.63538375746072,\n        \"num_unique_values\": 5,\n        \"samples\": [\n          11.93999569161395,\n          19.571894330137862\n        ],\n        \"semantic_type\": \"\",\n        \"description\": \"\"\n      }\n    },\n    {\n      \"column\": \"day\",\n      \"properties\": {\n        \"dtype\": \"number\",\n        \"std\": 0,\n        \"min\": 0,\n        \"max\": 0,\n        \"num_unique_values\": 1,\n        \"samples\": [\n          0\n        ],\n        \"semantic_type\": \"\",\n        \"description\": \"\"\n      }\n    },\n    {\n      \"column\": \"year\",\n      \"properties\": {\n        \"dtype\": \"number\",\n        \"std\": 0,\n        \"min\": 2010,\n        \"max\": 2010,\n        \"num_unique_values\": 1,\n        \"samples\": [\n          2010\n        ],\n        \"semantic_type\": \"\",\n        \"description\": \"\"\n      }\n    },\n    {\n      \"column\": \"is_holiday\",\n      \"properties\": {\n        \"dtype\": \"boolean\",\n        \"num_unique_values\": 1,\n        \"samples\": [\n          false\n        ],\n        \"semantic_type\": \"\",\n        \"description\": \"\"\n      }\n    },\n    {\n      \"column\": \"delay\",\n      \"properties\": {\n        \"dtype\": \"number\",\n        \"std\": 26.40481036130683,\n        \"min\": 2.3883054653629494,\n        \"max\": 70.20598057342374,\n        \"num_unique_values\": 5,\n        \"samples\": [\n          38.484609338469504\n        ],\n        \"semantic_type\": \"\",\n        \"description\": \"\"\n      }\n    }\n  ]\n}"
            }
          },
          "metadata": {},
          "execution_count": 37
        }
      ]
    },
    {
      "cell_type": "code",
      "source": [
        "# Ejemplo para convertir parte decimal de minutos a segundos\n",
        "# Los segundos se calculan multiplicando la parte decimal por 60\n",
        "round(.205981 * 60)  # Ejemplo: 70.205981 → 70 minutos y 12 segundos"
      ],
      "metadata": {
        "colab": {
          "base_uri": "https://localhost:8080/"
        },
        "id": "u79r9Ry2loE9",
        "outputId": "a756d165-45a3-41fd-e643-9565b5fd25de"
      },
      "execution_count": 38,
      "outputs": [
        {
          "output_type": "execute_result",
          "data": {
            "text/plain": [
              "12"
            ]
          },
          "metadata": {},
          "execution_count": 38
        }
      ]
    },
    {
      "cell_type": "code",
      "source": [
        "minutos_decimales = 70.205981\n",
        "# Obtener los minutos\n",
        "minutos = int(minutos_decimales)\n",
        "# Obtener la parte decimal\n",
        "decimal = minutos_decimales - minutos\n",
        "# Convertir la parte decimal a segundos\n",
        "segundos = round(decimal * 60)\n",
        "print(f\"{minutos} minutos y {segundos} segundos\")"
      ],
      "metadata": {
        "colab": {
          "base_uri": "https://localhost:8080/"
        },
        "id": "EyADqwJToG7i",
        "outputId": "9400afc2-96a3-494d-a041-5c2e0e68871c"
      },
      "execution_count": 39,
      "outputs": [
        {
          "output_type": "stream",
          "name": "stdout",
          "text": [
            "70 minutos y 12 segundos\n"
          ]
        }
      ]
    },
    {
      "cell_type": "code",
      "source": [
        "# Información general del DataFrame (nombres de columnas, cantidad de valores no nulos, tipo de datos)\n",
        "datos.info()"
      ],
      "metadata": {
        "colab": {
          "base_uri": "https://localhost:8080/"
        },
        "id": "Ii4LBqPhojGy",
        "outputId": "5e3448f4-12c7-4113-ea99-55ab35b6a4bf"
      },
      "execution_count": 40,
      "outputs": [
        {
          "output_type": "stream",
          "name": "stdout",
          "text": [
            "<class 'pandas.core.frame.DataFrame'>\n",
            "RangeIndex: 71175 entries, 0 to 71174\n",
            "Data columns (total 11 columns):\n",
            " #   Column          Non-Null Count  Dtype  \n",
            "---  ------          --------------  -----  \n",
            " 0   flight_id       71175 non-null  int64  \n",
            " 1   airline         71175 non-null  object \n",
            " 2   aircraft_type   71175 non-null  object \n",
            " 3   schengen        71175 non-null  object \n",
            " 4   origin          71175 non-null  object \n",
            " 5   arrival_time    71175 non-null  float64\n",
            " 6   departure_time  71175 non-null  float64\n",
            " 7   day             71175 non-null  int64  \n",
            " 8   year            71175 non-null  int64  \n",
            " 9   is_holiday      71175 non-null  bool   \n",
            " 10  delay           71175 non-null  float64\n",
            "dtypes: bool(1), float64(3), int64(3), object(4)\n",
            "memory usage: 5.5+ MB\n"
          ]
        }
      ]
    },
    {
      "cell_type": "code",
      "source": [
        "# Estadísticas descriptivas de variables numéricas\n",
        "datos.describe()\n",
        "\n",
        "# Muestra métricas como:\n",
        "# count: número de registros\n",
        "# mean: promedio\n",
        "# std: desviación estándar\n",
        "# min, max: valores mínimo y máximo\n",
        "# 25%, 50%, 75%: percentiles"
      ],
      "metadata": {
        "colab": {
          "base_uri": "https://localhost:8080/",
          "height": 300
        },
        "id": "YTlKAAZwo4pd",
        "outputId": "5fbeefde-3895-4283-e3cb-2e2e8af1bcf2"
      },
      "execution_count": 41,
      "outputs": [
        {
          "output_type": "execute_result",
          "data": {
            "text/plain": [
              "          flight_id  arrival_time  departure_time           day          year  \\\n",
              "count  71175.000000  71175.000000    71175.000000  71175.000000  71175.000000   \n",
              "mean      15.465135     13.283159       16.480222    182.000000   2016.000000   \n",
              "std        8.649646      4.023380        4.143705    105.366769      3.741684   \n",
              "min        1.000000      7.065594       10.065594      0.000000   2010.000000   \n",
              "25%        8.000000      8.939996       12.668655     91.000000   2013.000000   \n",
              "50%       15.000000     14.258911       16.376052    182.000000   2016.000000   \n",
              "75%       23.000000     16.909690       20.041281    273.000000   2019.000000   \n",
              "max       30.000000     19.341235       23.341235    364.000000   2022.000000   \n",
              "\n",
              "              delay  \n",
              "count  71175.000000  \n",
              "mean      12.548378  \n",
              "std       23.125349  \n",
              "min      -41.028033  \n",
              "25%       -4.412876  \n",
              "50%        9.740454  \n",
              "75%       27.650853  \n",
              "max      125.632352  "
            ],
            "text/html": [
              "\n",
              "  <div id=\"df-c493752e-811b-4e55-8d0b-a0b6f34885d8\" class=\"colab-df-container\">\n",
              "    <div>\n",
              "<style scoped>\n",
              "    .dataframe tbody tr th:only-of-type {\n",
              "        vertical-align: middle;\n",
              "    }\n",
              "\n",
              "    .dataframe tbody tr th {\n",
              "        vertical-align: top;\n",
              "    }\n",
              "\n",
              "    .dataframe thead th {\n",
              "        text-align: right;\n",
              "    }\n",
              "</style>\n",
              "<table border=\"1\" class=\"dataframe\">\n",
              "  <thead>\n",
              "    <tr style=\"text-align: right;\">\n",
              "      <th></th>\n",
              "      <th>flight_id</th>\n",
              "      <th>arrival_time</th>\n",
              "      <th>departure_time</th>\n",
              "      <th>day</th>\n",
              "      <th>year</th>\n",
              "      <th>delay</th>\n",
              "    </tr>\n",
              "  </thead>\n",
              "  <tbody>\n",
              "    <tr>\n",
              "      <th>count</th>\n",
              "      <td>71175.000000</td>\n",
              "      <td>71175.000000</td>\n",
              "      <td>71175.000000</td>\n",
              "      <td>71175.000000</td>\n",
              "      <td>71175.000000</td>\n",
              "      <td>71175.000000</td>\n",
              "    </tr>\n",
              "    <tr>\n",
              "      <th>mean</th>\n",
              "      <td>15.465135</td>\n",
              "      <td>13.283159</td>\n",
              "      <td>16.480222</td>\n",
              "      <td>182.000000</td>\n",
              "      <td>2016.000000</td>\n",
              "      <td>12.548378</td>\n",
              "    </tr>\n",
              "    <tr>\n",
              "      <th>std</th>\n",
              "      <td>8.649646</td>\n",
              "      <td>4.023380</td>\n",
              "      <td>4.143705</td>\n",
              "      <td>105.366769</td>\n",
              "      <td>3.741684</td>\n",
              "      <td>23.125349</td>\n",
              "    </tr>\n",
              "    <tr>\n",
              "      <th>min</th>\n",
              "      <td>1.000000</td>\n",
              "      <td>7.065594</td>\n",
              "      <td>10.065594</td>\n",
              "      <td>0.000000</td>\n",
              "      <td>2010.000000</td>\n",
              "      <td>-41.028033</td>\n",
              "    </tr>\n",
              "    <tr>\n",
              "      <th>25%</th>\n",
              "      <td>8.000000</td>\n",
              "      <td>8.939996</td>\n",
              "      <td>12.668655</td>\n",
              "      <td>91.000000</td>\n",
              "      <td>2013.000000</td>\n",
              "      <td>-4.412876</td>\n",
              "    </tr>\n",
              "    <tr>\n",
              "      <th>50%</th>\n",
              "      <td>15.000000</td>\n",
              "      <td>14.258911</td>\n",
              "      <td>16.376052</td>\n",
              "      <td>182.000000</td>\n",
              "      <td>2016.000000</td>\n",
              "      <td>9.740454</td>\n",
              "    </tr>\n",
              "    <tr>\n",
              "      <th>75%</th>\n",
              "      <td>23.000000</td>\n",
              "      <td>16.909690</td>\n",
              "      <td>20.041281</td>\n",
              "      <td>273.000000</td>\n",
              "      <td>2019.000000</td>\n",
              "      <td>27.650853</td>\n",
              "    </tr>\n",
              "    <tr>\n",
              "      <th>max</th>\n",
              "      <td>30.000000</td>\n",
              "      <td>19.341235</td>\n",
              "      <td>23.341235</td>\n",
              "      <td>364.000000</td>\n",
              "      <td>2022.000000</td>\n",
              "      <td>125.632352</td>\n",
              "    </tr>\n",
              "  </tbody>\n",
              "</table>\n",
              "</div>\n",
              "    <div class=\"colab-df-buttons\">\n",
              "\n",
              "  <div class=\"colab-df-container\">\n",
              "    <button class=\"colab-df-convert\" onclick=\"convertToInteractive('df-c493752e-811b-4e55-8d0b-a0b6f34885d8')\"\n",
              "            title=\"Convert this dataframe to an interactive table.\"\n",
              "            style=\"display:none;\">\n",
              "\n",
              "  <svg xmlns=\"http://www.w3.org/2000/svg\" height=\"24px\" viewBox=\"0 -960 960 960\">\n",
              "    <path d=\"M120-120v-720h720v720H120Zm60-500h600v-160H180v160Zm220 220h160v-160H400v160Zm0 220h160v-160H400v160ZM180-400h160v-160H180v160Zm440 0h160v-160H620v160ZM180-180h160v-160H180v160Zm440 0h160v-160H620v160Z\"/>\n",
              "  </svg>\n",
              "    </button>\n",
              "\n",
              "  <style>\n",
              "    .colab-df-container {\n",
              "      display:flex;\n",
              "      gap: 12px;\n",
              "    }\n",
              "\n",
              "    .colab-df-convert {\n",
              "      background-color: #E8F0FE;\n",
              "      border: none;\n",
              "      border-radius: 50%;\n",
              "      cursor: pointer;\n",
              "      display: none;\n",
              "      fill: #1967D2;\n",
              "      height: 32px;\n",
              "      padding: 0 0 0 0;\n",
              "      width: 32px;\n",
              "    }\n",
              "\n",
              "    .colab-df-convert:hover {\n",
              "      background-color: #E2EBFA;\n",
              "      box-shadow: 0px 1px 2px rgba(60, 64, 67, 0.3), 0px 1px 3px 1px rgba(60, 64, 67, 0.15);\n",
              "      fill: #174EA6;\n",
              "    }\n",
              "\n",
              "    .colab-df-buttons div {\n",
              "      margin-bottom: 4px;\n",
              "    }\n",
              "\n",
              "    [theme=dark] .colab-df-convert {\n",
              "      background-color: #3B4455;\n",
              "      fill: #D2E3FC;\n",
              "    }\n",
              "\n",
              "    [theme=dark] .colab-df-convert:hover {\n",
              "      background-color: #434B5C;\n",
              "      box-shadow: 0px 1px 3px 1px rgba(0, 0, 0, 0.15);\n",
              "      filter: drop-shadow(0px 1px 2px rgba(0, 0, 0, 0.3));\n",
              "      fill: #FFFFFF;\n",
              "    }\n",
              "  </style>\n",
              "\n",
              "    <script>\n",
              "      const buttonEl =\n",
              "        document.querySelector('#df-c493752e-811b-4e55-8d0b-a0b6f34885d8 button.colab-df-convert');\n",
              "      buttonEl.style.display =\n",
              "        google.colab.kernel.accessAllowed ? 'block' : 'none';\n",
              "\n",
              "      async function convertToInteractive(key) {\n",
              "        const element = document.querySelector('#df-c493752e-811b-4e55-8d0b-a0b6f34885d8');\n",
              "        const dataTable =\n",
              "          await google.colab.kernel.invokeFunction('convertToInteractive',\n",
              "                                                    [key], {});\n",
              "        if (!dataTable) return;\n",
              "\n",
              "        const docLinkHtml = 'Like what you see? Visit the ' +\n",
              "          '<a target=\"_blank\" href=https://colab.research.google.com/notebooks/data_table.ipynb>data table notebook</a>'\n",
              "          + ' to learn more about interactive tables.';\n",
              "        element.innerHTML = '';\n",
              "        dataTable['output_type'] = 'display_data';\n",
              "        await google.colab.output.renderOutput(dataTable, element);\n",
              "        const docLink = document.createElement('div');\n",
              "        docLink.innerHTML = docLinkHtml;\n",
              "        element.appendChild(docLink);\n",
              "      }\n",
              "    </script>\n",
              "  </div>\n",
              "\n",
              "\n",
              "    <div id=\"df-f2b7491f-b2fc-4359-a37c-d10a95ed7500\">\n",
              "      <button class=\"colab-df-quickchart\" onclick=\"quickchart('df-f2b7491f-b2fc-4359-a37c-d10a95ed7500')\"\n",
              "                title=\"Suggest charts\"\n",
              "                style=\"display:none;\">\n",
              "\n",
              "<svg xmlns=\"http://www.w3.org/2000/svg\" height=\"24px\"viewBox=\"0 0 24 24\"\n",
              "     width=\"24px\">\n",
              "    <g>\n",
              "        <path d=\"M19 3H5c-1.1 0-2 .9-2 2v14c0 1.1.9 2 2 2h14c1.1 0 2-.9 2-2V5c0-1.1-.9-2-2-2zM9 17H7v-7h2v7zm4 0h-2V7h2v10zm4 0h-2v-4h2v4z\"/>\n",
              "    </g>\n",
              "</svg>\n",
              "      </button>\n",
              "\n",
              "<style>\n",
              "  .colab-df-quickchart {\n",
              "      --bg-color: #E8F0FE;\n",
              "      --fill-color: #1967D2;\n",
              "      --hover-bg-color: #E2EBFA;\n",
              "      --hover-fill-color: #174EA6;\n",
              "      --disabled-fill-color: #AAA;\n",
              "      --disabled-bg-color: #DDD;\n",
              "  }\n",
              "\n",
              "  [theme=dark] .colab-df-quickchart {\n",
              "      --bg-color: #3B4455;\n",
              "      --fill-color: #D2E3FC;\n",
              "      --hover-bg-color: #434B5C;\n",
              "      --hover-fill-color: #FFFFFF;\n",
              "      --disabled-bg-color: #3B4455;\n",
              "      --disabled-fill-color: #666;\n",
              "  }\n",
              "\n",
              "  .colab-df-quickchart {\n",
              "    background-color: var(--bg-color);\n",
              "    border: none;\n",
              "    border-radius: 50%;\n",
              "    cursor: pointer;\n",
              "    display: none;\n",
              "    fill: var(--fill-color);\n",
              "    height: 32px;\n",
              "    padding: 0;\n",
              "    width: 32px;\n",
              "  }\n",
              "\n",
              "  .colab-df-quickchart:hover {\n",
              "    background-color: var(--hover-bg-color);\n",
              "    box-shadow: 0 1px 2px rgba(60, 64, 67, 0.3), 0 1px 3px 1px rgba(60, 64, 67, 0.15);\n",
              "    fill: var(--button-hover-fill-color);\n",
              "  }\n",
              "\n",
              "  .colab-df-quickchart-complete:disabled,\n",
              "  .colab-df-quickchart-complete:disabled:hover {\n",
              "    background-color: var(--disabled-bg-color);\n",
              "    fill: var(--disabled-fill-color);\n",
              "    box-shadow: none;\n",
              "  }\n",
              "\n",
              "  .colab-df-spinner {\n",
              "    border: 2px solid var(--fill-color);\n",
              "    border-color: transparent;\n",
              "    border-bottom-color: var(--fill-color);\n",
              "    animation:\n",
              "      spin 1s steps(1) infinite;\n",
              "  }\n",
              "\n",
              "  @keyframes spin {\n",
              "    0% {\n",
              "      border-color: transparent;\n",
              "      border-bottom-color: var(--fill-color);\n",
              "      border-left-color: var(--fill-color);\n",
              "    }\n",
              "    20% {\n",
              "      border-color: transparent;\n",
              "      border-left-color: var(--fill-color);\n",
              "      border-top-color: var(--fill-color);\n",
              "    }\n",
              "    30% {\n",
              "      border-color: transparent;\n",
              "      border-left-color: var(--fill-color);\n",
              "      border-top-color: var(--fill-color);\n",
              "      border-right-color: var(--fill-color);\n",
              "    }\n",
              "    40% {\n",
              "      border-color: transparent;\n",
              "      border-right-color: var(--fill-color);\n",
              "      border-top-color: var(--fill-color);\n",
              "    }\n",
              "    60% {\n",
              "      border-color: transparent;\n",
              "      border-right-color: var(--fill-color);\n",
              "    }\n",
              "    80% {\n",
              "      border-color: transparent;\n",
              "      border-right-color: var(--fill-color);\n",
              "      border-bottom-color: var(--fill-color);\n",
              "    }\n",
              "    90% {\n",
              "      border-color: transparent;\n",
              "      border-bottom-color: var(--fill-color);\n",
              "    }\n",
              "  }\n",
              "</style>\n",
              "\n",
              "      <script>\n",
              "        async function quickchart(key) {\n",
              "          const quickchartButtonEl =\n",
              "            document.querySelector('#' + key + ' button');\n",
              "          quickchartButtonEl.disabled = true;  // To prevent multiple clicks.\n",
              "          quickchartButtonEl.classList.add('colab-df-spinner');\n",
              "          try {\n",
              "            const charts = await google.colab.kernel.invokeFunction(\n",
              "                'suggestCharts', [key], {});\n",
              "          } catch (error) {\n",
              "            console.error('Error during call to suggestCharts:', error);\n",
              "          }\n",
              "          quickchartButtonEl.classList.remove('colab-df-spinner');\n",
              "          quickchartButtonEl.classList.add('colab-df-quickchart-complete');\n",
              "        }\n",
              "        (() => {\n",
              "          let quickchartButtonEl =\n",
              "            document.querySelector('#df-f2b7491f-b2fc-4359-a37c-d10a95ed7500 button');\n",
              "          quickchartButtonEl.style.display =\n",
              "            google.colab.kernel.accessAllowed ? 'block' : 'none';\n",
              "        })();\n",
              "      </script>\n",
              "    </div>\n",
              "\n",
              "    </div>\n",
              "  </div>\n"
            ],
            "application/vnd.google.colaboratory.intrinsic+json": {
              "type": "dataframe",
              "summary": "{\n  \"name\": \"# 25%, 50%, 75%: percentiles\",\n  \"rows\": 8,\n  \"fields\": [\n    {\n      \"column\": \"flight_id\",\n      \"properties\": {\n        \"dtype\": \"number\",\n        \"std\": 25159.057132830687,\n        \"min\": 1.0,\n        \"max\": 71175.0,\n        \"num_unique_values\": 8,\n        \"samples\": [\n          15.465135230066737,\n          15.0,\n          71175.0\n        ],\n        \"semantic_type\": \"\",\n        \"description\": \"\"\n      }\n    },\n    {\n      \"column\": \"arrival_time\",\n      \"properties\": {\n        \"dtype\": \"number\",\n        \"std\": 25159.92944385278,\n        \"min\": 4.023379604080493,\n        \"max\": 71175.0,\n        \"num_unique_values\": 8,\n        \"samples\": [\n          13.283158843278189,\n          14.25891108485482,\n          71175.0\n        ],\n        \"semantic_type\": \"\",\n        \"description\": \"\"\n      }\n    },\n    {\n      \"column\": \"departure_time\",\n      \"properties\": {\n        \"dtype\": \"number\",\n        \"std\": 25158.95509234885,\n        \"min\": 4.143705375787633,\n        \"max\": 71175.0,\n        \"num_unique_values\": 8,\n        \"samples\": [\n          16.4802224189719,\n          16.376052206287405,\n          71175.0\n        ],\n        \"semantic_type\": \"\",\n        \"description\": \"\"\n      }\n    },\n    {\n      \"column\": \"day\",\n      \"properties\": {\n        \"dtype\": \"number\",\n        \"std\": 25103.93636518227,\n        \"min\": 0.0,\n        \"max\": 71175.0,\n        \"num_unique_values\": 7,\n        \"samples\": [\n          71175.0,\n          182.0,\n          273.0\n        ],\n        \"semantic_type\": \"\",\n        \"description\": \"\"\n      }\n    },\n    {\n      \"column\": \"year\",\n      \"properties\": {\n        \"dtype\": \"number\",\n        \"std\": 24563.128406181462,\n        \"min\": 3.7416836719640685,\n        \"max\": 71175.0,\n        \"num_unique_values\": 7,\n        \"samples\": [\n          71175.0,\n          2016.0,\n          2019.0\n        ],\n        \"semantic_type\": \"\",\n        \"description\": \"\"\n      }\n    },\n    {\n      \"column\": \"delay\",\n      \"properties\": {\n        \"dtype\": \"number\",\n        \"std\": 25156.466483245298,\n        \"min\": -41.0280332484786,\n        \"max\": 71175.0,\n        \"num_unique_values\": 8,\n        \"samples\": [\n          12.548378015698628,\n          9.740453855590491,\n          71175.0\n        ],\n        \"semantic_type\": \"\",\n        \"description\": \"\"\n      }\n    }\n  ]\n}"
            }
          },
          "metadata": {},
          "execution_count": 41
        }
      ]
    },
    {
      "cell_type": "code",
      "source": [
        "# Estadísticas descriptivas de variables categóricas\n",
        "datos.describe(include = 'O')\n",
        "\n",
        "# 'count': cantidad de registros no nulos\n",
        "# 'unique': cantidad de valores únicos\n",
        "# 'top': valor más frecuente\n",
        "# 'freq': frecuencia del valor más frecuente"
      ],
      "metadata": {
        "colab": {
          "base_uri": "https://localhost:8080/",
          "height": 174
        },
        "id": "DlMX_Gdhpx_S",
        "outputId": "fe8a4999-ab7b-478e-a9c6-0240a933af42"
      },
      "execution_count": 42,
      "outputs": [
        {
          "output_type": "execute_result",
          "data": {
            "text/plain": [
              "       airline aircraft_type  schengen origin\n",
              "count    71175         71175     71175  71175\n",
              "unique       3             6         2     10\n",
              "top         BZ   Airbus A320  schengen    TZF\n",
              "freq     47598         30778     42569  14162"
            ],
            "text/html": [
              "\n",
              "  <div id=\"df-9dc8a547-addd-4cea-8afd-efc96a13ac91\" class=\"colab-df-container\">\n",
              "    <div>\n",
              "<style scoped>\n",
              "    .dataframe tbody tr th:only-of-type {\n",
              "        vertical-align: middle;\n",
              "    }\n",
              "\n",
              "    .dataframe tbody tr th {\n",
              "        vertical-align: top;\n",
              "    }\n",
              "\n",
              "    .dataframe thead th {\n",
              "        text-align: right;\n",
              "    }\n",
              "</style>\n",
              "<table border=\"1\" class=\"dataframe\">\n",
              "  <thead>\n",
              "    <tr style=\"text-align: right;\">\n",
              "      <th></th>\n",
              "      <th>airline</th>\n",
              "      <th>aircraft_type</th>\n",
              "      <th>schengen</th>\n",
              "      <th>origin</th>\n",
              "    </tr>\n",
              "  </thead>\n",
              "  <tbody>\n",
              "    <tr>\n",
              "      <th>count</th>\n",
              "      <td>71175</td>\n",
              "      <td>71175</td>\n",
              "      <td>71175</td>\n",
              "      <td>71175</td>\n",
              "    </tr>\n",
              "    <tr>\n",
              "      <th>unique</th>\n",
              "      <td>3</td>\n",
              "      <td>6</td>\n",
              "      <td>2</td>\n",
              "      <td>10</td>\n",
              "    </tr>\n",
              "    <tr>\n",
              "      <th>top</th>\n",
              "      <td>BZ</td>\n",
              "      <td>Airbus A320</td>\n",
              "      <td>schengen</td>\n",
              "      <td>TZF</td>\n",
              "    </tr>\n",
              "    <tr>\n",
              "      <th>freq</th>\n",
              "      <td>47598</td>\n",
              "      <td>30778</td>\n",
              "      <td>42569</td>\n",
              "      <td>14162</td>\n",
              "    </tr>\n",
              "  </tbody>\n",
              "</table>\n",
              "</div>\n",
              "    <div class=\"colab-df-buttons\">\n",
              "\n",
              "  <div class=\"colab-df-container\">\n",
              "    <button class=\"colab-df-convert\" onclick=\"convertToInteractive('df-9dc8a547-addd-4cea-8afd-efc96a13ac91')\"\n",
              "            title=\"Convert this dataframe to an interactive table.\"\n",
              "            style=\"display:none;\">\n",
              "\n",
              "  <svg xmlns=\"http://www.w3.org/2000/svg\" height=\"24px\" viewBox=\"0 -960 960 960\">\n",
              "    <path d=\"M120-120v-720h720v720H120Zm60-500h600v-160H180v160Zm220 220h160v-160H400v160Zm0 220h160v-160H400v160ZM180-400h160v-160H180v160Zm440 0h160v-160H620v160ZM180-180h160v-160H180v160Zm440 0h160v-160H620v160Z\"/>\n",
              "  </svg>\n",
              "    </button>\n",
              "\n",
              "  <style>\n",
              "    .colab-df-container {\n",
              "      display:flex;\n",
              "      gap: 12px;\n",
              "    }\n",
              "\n",
              "    .colab-df-convert {\n",
              "      background-color: #E8F0FE;\n",
              "      border: none;\n",
              "      border-radius: 50%;\n",
              "      cursor: pointer;\n",
              "      display: none;\n",
              "      fill: #1967D2;\n",
              "      height: 32px;\n",
              "      padding: 0 0 0 0;\n",
              "      width: 32px;\n",
              "    }\n",
              "\n",
              "    .colab-df-convert:hover {\n",
              "      background-color: #E2EBFA;\n",
              "      box-shadow: 0px 1px 2px rgba(60, 64, 67, 0.3), 0px 1px 3px 1px rgba(60, 64, 67, 0.15);\n",
              "      fill: #174EA6;\n",
              "    }\n",
              "\n",
              "    .colab-df-buttons div {\n",
              "      margin-bottom: 4px;\n",
              "    }\n",
              "\n",
              "    [theme=dark] .colab-df-convert {\n",
              "      background-color: #3B4455;\n",
              "      fill: #D2E3FC;\n",
              "    }\n",
              "\n",
              "    [theme=dark] .colab-df-convert:hover {\n",
              "      background-color: #434B5C;\n",
              "      box-shadow: 0px 1px 3px 1px rgba(0, 0, 0, 0.15);\n",
              "      filter: drop-shadow(0px 1px 2px rgba(0, 0, 0, 0.3));\n",
              "      fill: #FFFFFF;\n",
              "    }\n",
              "  </style>\n",
              "\n",
              "    <script>\n",
              "      const buttonEl =\n",
              "        document.querySelector('#df-9dc8a547-addd-4cea-8afd-efc96a13ac91 button.colab-df-convert');\n",
              "      buttonEl.style.display =\n",
              "        google.colab.kernel.accessAllowed ? 'block' : 'none';\n",
              "\n",
              "      async function convertToInteractive(key) {\n",
              "        const element = document.querySelector('#df-9dc8a547-addd-4cea-8afd-efc96a13ac91');\n",
              "        const dataTable =\n",
              "          await google.colab.kernel.invokeFunction('convertToInteractive',\n",
              "                                                    [key], {});\n",
              "        if (!dataTable) return;\n",
              "\n",
              "        const docLinkHtml = 'Like what you see? Visit the ' +\n",
              "          '<a target=\"_blank\" href=https://colab.research.google.com/notebooks/data_table.ipynb>data table notebook</a>'\n",
              "          + ' to learn more about interactive tables.';\n",
              "        element.innerHTML = '';\n",
              "        dataTable['output_type'] = 'display_data';\n",
              "        await google.colab.output.renderOutput(dataTable, element);\n",
              "        const docLink = document.createElement('div');\n",
              "        docLink.innerHTML = docLinkHtml;\n",
              "        element.appendChild(docLink);\n",
              "      }\n",
              "    </script>\n",
              "  </div>\n",
              "\n",
              "\n",
              "    <div id=\"df-81ce0aa5-1e10-44bb-84ef-6af5d97aacfd\">\n",
              "      <button class=\"colab-df-quickchart\" onclick=\"quickchart('df-81ce0aa5-1e10-44bb-84ef-6af5d97aacfd')\"\n",
              "                title=\"Suggest charts\"\n",
              "                style=\"display:none;\">\n",
              "\n",
              "<svg xmlns=\"http://www.w3.org/2000/svg\" height=\"24px\"viewBox=\"0 0 24 24\"\n",
              "     width=\"24px\">\n",
              "    <g>\n",
              "        <path d=\"M19 3H5c-1.1 0-2 .9-2 2v14c0 1.1.9 2 2 2h14c1.1 0 2-.9 2-2V5c0-1.1-.9-2-2-2zM9 17H7v-7h2v7zm4 0h-2V7h2v10zm4 0h-2v-4h2v4z\"/>\n",
              "    </g>\n",
              "</svg>\n",
              "      </button>\n",
              "\n",
              "<style>\n",
              "  .colab-df-quickchart {\n",
              "      --bg-color: #E8F0FE;\n",
              "      --fill-color: #1967D2;\n",
              "      --hover-bg-color: #E2EBFA;\n",
              "      --hover-fill-color: #174EA6;\n",
              "      --disabled-fill-color: #AAA;\n",
              "      --disabled-bg-color: #DDD;\n",
              "  }\n",
              "\n",
              "  [theme=dark] .colab-df-quickchart {\n",
              "      --bg-color: #3B4455;\n",
              "      --fill-color: #D2E3FC;\n",
              "      --hover-bg-color: #434B5C;\n",
              "      --hover-fill-color: #FFFFFF;\n",
              "      --disabled-bg-color: #3B4455;\n",
              "      --disabled-fill-color: #666;\n",
              "  }\n",
              "\n",
              "  .colab-df-quickchart {\n",
              "    background-color: var(--bg-color);\n",
              "    border: none;\n",
              "    border-radius: 50%;\n",
              "    cursor: pointer;\n",
              "    display: none;\n",
              "    fill: var(--fill-color);\n",
              "    height: 32px;\n",
              "    padding: 0;\n",
              "    width: 32px;\n",
              "  }\n",
              "\n",
              "  .colab-df-quickchart:hover {\n",
              "    background-color: var(--hover-bg-color);\n",
              "    box-shadow: 0 1px 2px rgba(60, 64, 67, 0.3), 0 1px 3px 1px rgba(60, 64, 67, 0.15);\n",
              "    fill: var(--button-hover-fill-color);\n",
              "  }\n",
              "\n",
              "  .colab-df-quickchart-complete:disabled,\n",
              "  .colab-df-quickchart-complete:disabled:hover {\n",
              "    background-color: var(--disabled-bg-color);\n",
              "    fill: var(--disabled-fill-color);\n",
              "    box-shadow: none;\n",
              "  }\n",
              "\n",
              "  .colab-df-spinner {\n",
              "    border: 2px solid var(--fill-color);\n",
              "    border-color: transparent;\n",
              "    border-bottom-color: var(--fill-color);\n",
              "    animation:\n",
              "      spin 1s steps(1) infinite;\n",
              "  }\n",
              "\n",
              "  @keyframes spin {\n",
              "    0% {\n",
              "      border-color: transparent;\n",
              "      border-bottom-color: var(--fill-color);\n",
              "      border-left-color: var(--fill-color);\n",
              "    }\n",
              "    20% {\n",
              "      border-color: transparent;\n",
              "      border-left-color: var(--fill-color);\n",
              "      border-top-color: var(--fill-color);\n",
              "    }\n",
              "    30% {\n",
              "      border-color: transparent;\n",
              "      border-left-color: var(--fill-color);\n",
              "      border-top-color: var(--fill-color);\n",
              "      border-right-color: var(--fill-color);\n",
              "    }\n",
              "    40% {\n",
              "      border-color: transparent;\n",
              "      border-right-color: var(--fill-color);\n",
              "      border-top-color: var(--fill-color);\n",
              "    }\n",
              "    60% {\n",
              "      border-color: transparent;\n",
              "      border-right-color: var(--fill-color);\n",
              "    }\n",
              "    80% {\n",
              "      border-color: transparent;\n",
              "      border-right-color: var(--fill-color);\n",
              "      border-bottom-color: var(--fill-color);\n",
              "    }\n",
              "    90% {\n",
              "      border-color: transparent;\n",
              "      border-bottom-color: var(--fill-color);\n",
              "    }\n",
              "  }\n",
              "</style>\n",
              "\n",
              "      <script>\n",
              "        async function quickchart(key) {\n",
              "          const quickchartButtonEl =\n",
              "            document.querySelector('#' + key + ' button');\n",
              "          quickchartButtonEl.disabled = true;  // To prevent multiple clicks.\n",
              "          quickchartButtonEl.classList.add('colab-df-spinner');\n",
              "          try {\n",
              "            const charts = await google.colab.kernel.invokeFunction(\n",
              "                'suggestCharts', [key], {});\n",
              "          } catch (error) {\n",
              "            console.error('Error during call to suggestCharts:', error);\n",
              "          }\n",
              "          quickchartButtonEl.classList.remove('colab-df-spinner');\n",
              "          quickchartButtonEl.classList.add('colab-df-quickchart-complete');\n",
              "        }\n",
              "        (() => {\n",
              "          let quickchartButtonEl =\n",
              "            document.querySelector('#df-81ce0aa5-1e10-44bb-84ef-6af5d97aacfd button');\n",
              "          quickchartButtonEl.style.display =\n",
              "            google.colab.kernel.accessAllowed ? 'block' : 'none';\n",
              "        })();\n",
              "      </script>\n",
              "    </div>\n",
              "\n",
              "    </div>\n",
              "  </div>\n"
            ],
            "application/vnd.google.colaboratory.intrinsic+json": {
              "type": "dataframe",
              "summary": "{\n  \"name\": \"# 'freq': frecuencia del valor m\\u00e1s frecuente\",\n  \"rows\": 4,\n  \"fields\": [\n    {\n      \"column\": \"airline\",\n      \"properties\": {\n        \"dtype\": \"string\",\n        \"num_unique_values\": 4,\n        \"samples\": [\n          3,\n          \"47598\",\n          \"71175\"\n        ],\n        \"semantic_type\": \"\",\n        \"description\": \"\"\n      }\n    },\n    {\n      \"column\": \"aircraft_type\",\n      \"properties\": {\n        \"dtype\": \"string\",\n        \"num_unique_values\": 4,\n        \"samples\": [\n          6,\n          \"30778\",\n          \"71175\"\n        ],\n        \"semantic_type\": \"\",\n        \"description\": \"\"\n      }\n    },\n    {\n      \"column\": \"schengen\",\n      \"properties\": {\n        \"dtype\": \"string\",\n        \"num_unique_values\": 4,\n        \"samples\": [\n          2,\n          \"42569\",\n          \"71175\"\n        ],\n        \"semantic_type\": \"\",\n        \"description\": \"\"\n      }\n    },\n    {\n      \"column\": \"origin\",\n      \"properties\": {\n        \"dtype\": \"string\",\n        \"num_unique_values\": 4,\n        \"samples\": [\n          10,\n          \"14162\",\n          \"71175\"\n        ],\n        \"semantic_type\": \"\",\n        \"description\": \"\"\n      }\n    }\n  ]\n}"
            }
          },
          "metadata": {},
          "execution_count": 42
        }
      ]
    },
    {
      "cell_type": "markdown",
      "source": [
        "**Análisis y descripción**\n",
        "\n",
        "**¿Qué hace?**\n",
        "\n",
        "* Carga un dataset de retrasos de vuelos desde GitHub.\n",
        "\n",
        "* Muestra una vista inicial (head) para entender la estructura.\n",
        "\n",
        "* Explica el significado de cada columna.\n",
        "\n",
        "* Realiza una conversión de parte decimal de minutos a segundos para interpretar mejor la variable delay.\n",
        "\n",
        "* Consulta metadatos (info) para identificar tipos de datos y valores nulos.\n",
        "\n",
        "* Genera estadísticas descriptivas para variables numéricas y categóricas.\n",
        "\n",
        "**¿Qué se identificó?**\n",
        "\n",
        "* Tamaño: 71.175 registros y 11 columnas.\n",
        "\n",
        "* Tipos de datos: combinación de enteros, flotantes, objetos y booleanos.\n",
        "\n",
        "* **delay:** puede tener valores negativos (indica vuelos adelantados) y muy altos (hasta 125 minutos).\n",
        "\n",
        "* Categorías:\n",
        "\n",
        ">* airline: 3 aerolíneas, la más frecuente es BZ.\n",
        ">\n",
        ">* aircraft_type: 6 tipos de aeronaves, predominando Airbus A320.\n",
        ">\n",
        ">* schengen: 2 categorías (schengen / non-schengen).\n",
        ">\n",
        ">* origin: 10 aeropuertos de origen, más frecuente TZF.\n",
        "\n",
        "**¿Qué se puede hacer?**\n",
        "\n",
        "* Convertir arrival_time y departure_time de formato decimal a horas/minutos legibles.\n",
        "\n",
        "* Transformar delay a formato minutos y segundos para mayor claridad.\n",
        "\n",
        "* Analizar la distribución de retrasos y valores negativos.\n",
        "\n",
        "* Explorar si los días festivos (is_holiday) influyen en los retrasos.\n",
        "\n",
        "**Conclusión breve:**\n",
        "\n",
        "* El dataset está completo (sin nulos), variado en tipos de datos y listo para iniciar exploración gráfica y preprocesamiento.\n",
        "\n",
        "* Se observa que la variable delay puede representar tanto retrasos como adelantos, lo que influirá en cómo se clasifique el problema de predicción."
      ],
      "metadata": {
        "id": "jhEPngcsr4Ux"
      }
    },
    {
      "cell_type": "markdown",
      "source": [
        "### <font color='#6595F6'>**Análisis gráfico del conjunto de datos**</h3>"
      ],
      "metadata": {
        "id": "ed8-HEYSsaLR"
      }
    },
    {
      "cell_type": "code",
      "source": [
        "# Importamos librerías para visualización\n",
        "import seaborn as sns\n",
        "import matplotlib.pyplot as plt"
      ],
      "metadata": {
        "id": "bA3gKKPpsamA"
      },
      "execution_count": 43,
      "outputs": []
    },
    {
      "cell_type": "code",
      "source": [
        "# Agrupamos por aérolineas y nuestra variable respuesta es delay (retraso)\n",
        "datos.groupby('airline')['delay'].mean()\n",
        "\n",
        "# Lo anterior devuelve una Serie con aerolínea como índice y el promedio de delay como valor."
      ],
      "metadata": {
        "id": "jQuUBbH4x2BL",
        "outputId": "d93e4440-c46d-4263-96e8-f309c3df370f",
        "colab": {
          "base_uri": "https://localhost:8080/",
          "height": 209
        }
      },
      "execution_count": 44,
      "outputs": [
        {
          "output_type": "execute_result",
          "data": {
            "text/plain": [
              "airline\n",
              "BZ     3.077595\n",
              "MM    40.498007\n",
              "YE    25.772248\n",
              "Name: delay, dtype: float64"
            ],
            "text/html": [
              "<div>\n",
              "<style scoped>\n",
              "    .dataframe tbody tr th:only-of-type {\n",
              "        vertical-align: middle;\n",
              "    }\n",
              "\n",
              "    .dataframe tbody tr th {\n",
              "        vertical-align: top;\n",
              "    }\n",
              "\n",
              "    .dataframe thead th {\n",
              "        text-align: right;\n",
              "    }\n",
              "</style>\n",
              "<table border=\"1\" class=\"dataframe\">\n",
              "  <thead>\n",
              "    <tr style=\"text-align: right;\">\n",
              "      <th></th>\n",
              "      <th>delay</th>\n",
              "    </tr>\n",
              "    <tr>\n",
              "      <th>airline</th>\n",
              "      <th></th>\n",
              "    </tr>\n",
              "  </thead>\n",
              "  <tbody>\n",
              "    <tr>\n",
              "      <th>BZ</th>\n",
              "      <td>3.077595</td>\n",
              "    </tr>\n",
              "    <tr>\n",
              "      <th>MM</th>\n",
              "      <td>40.498007</td>\n",
              "    </tr>\n",
              "    <tr>\n",
              "      <th>YE</th>\n",
              "      <td>25.772248</td>\n",
              "    </tr>\n",
              "  </tbody>\n",
              "</table>\n",
              "</div><br><label><b>dtype:</b> float64</label>"
            ]
          },
          "metadata": {},
          "execution_count": 44
        }
      ]
    },
    {
      "cell_type": "code",
      "source": [
        "# .reset_index() convierte el índice (airline) en columna normal.\n",
        "\n",
        "# Si queremos el resultado como DataFrame y no como índice:\n",
        "datos.groupby('airline')['delay'].mean().reset_index()\n"
      ],
      "metadata": {
        "id": "xV1hSB60yfSx",
        "outputId": "025908fc-cdfc-4ae7-e3cc-edc9db75e3b2",
        "colab": {
          "base_uri": "https://localhost:8080/",
          "height": 143
        }
      },
      "execution_count": 45,
      "outputs": [
        {
          "output_type": "execute_result",
          "data": {
            "text/plain": [
              "  airline      delay\n",
              "0      BZ   3.077595\n",
              "1      MM  40.498007\n",
              "2      YE  25.772248"
            ],
            "text/html": [
              "\n",
              "  <div id=\"df-7da8b1cf-d09a-48b8-b5b2-8ac0eb2bc594\" class=\"colab-df-container\">\n",
              "    <div>\n",
              "<style scoped>\n",
              "    .dataframe tbody tr th:only-of-type {\n",
              "        vertical-align: middle;\n",
              "    }\n",
              "\n",
              "    .dataframe tbody tr th {\n",
              "        vertical-align: top;\n",
              "    }\n",
              "\n",
              "    .dataframe thead th {\n",
              "        text-align: right;\n",
              "    }\n",
              "</style>\n",
              "<table border=\"1\" class=\"dataframe\">\n",
              "  <thead>\n",
              "    <tr style=\"text-align: right;\">\n",
              "      <th></th>\n",
              "      <th>airline</th>\n",
              "      <th>delay</th>\n",
              "    </tr>\n",
              "  </thead>\n",
              "  <tbody>\n",
              "    <tr>\n",
              "      <th>0</th>\n",
              "      <td>BZ</td>\n",
              "      <td>3.077595</td>\n",
              "    </tr>\n",
              "    <tr>\n",
              "      <th>1</th>\n",
              "      <td>MM</td>\n",
              "      <td>40.498007</td>\n",
              "    </tr>\n",
              "    <tr>\n",
              "      <th>2</th>\n",
              "      <td>YE</td>\n",
              "      <td>25.772248</td>\n",
              "    </tr>\n",
              "  </tbody>\n",
              "</table>\n",
              "</div>\n",
              "    <div class=\"colab-df-buttons\">\n",
              "\n",
              "  <div class=\"colab-df-container\">\n",
              "    <button class=\"colab-df-convert\" onclick=\"convertToInteractive('df-7da8b1cf-d09a-48b8-b5b2-8ac0eb2bc594')\"\n",
              "            title=\"Convert this dataframe to an interactive table.\"\n",
              "            style=\"display:none;\">\n",
              "\n",
              "  <svg xmlns=\"http://www.w3.org/2000/svg\" height=\"24px\" viewBox=\"0 -960 960 960\">\n",
              "    <path d=\"M120-120v-720h720v720H120Zm60-500h600v-160H180v160Zm220 220h160v-160H400v160Zm0 220h160v-160H400v160ZM180-400h160v-160H180v160Zm440 0h160v-160H620v160ZM180-180h160v-160H180v160Zm440 0h160v-160H620v160Z\"/>\n",
              "  </svg>\n",
              "    </button>\n",
              "\n",
              "  <style>\n",
              "    .colab-df-container {\n",
              "      display:flex;\n",
              "      gap: 12px;\n",
              "    }\n",
              "\n",
              "    .colab-df-convert {\n",
              "      background-color: #E8F0FE;\n",
              "      border: none;\n",
              "      border-radius: 50%;\n",
              "      cursor: pointer;\n",
              "      display: none;\n",
              "      fill: #1967D2;\n",
              "      height: 32px;\n",
              "      padding: 0 0 0 0;\n",
              "      width: 32px;\n",
              "    }\n",
              "\n",
              "    .colab-df-convert:hover {\n",
              "      background-color: #E2EBFA;\n",
              "      box-shadow: 0px 1px 2px rgba(60, 64, 67, 0.3), 0px 1px 3px 1px rgba(60, 64, 67, 0.15);\n",
              "      fill: #174EA6;\n",
              "    }\n",
              "\n",
              "    .colab-df-buttons div {\n",
              "      margin-bottom: 4px;\n",
              "    }\n",
              "\n",
              "    [theme=dark] .colab-df-convert {\n",
              "      background-color: #3B4455;\n",
              "      fill: #D2E3FC;\n",
              "    }\n",
              "\n",
              "    [theme=dark] .colab-df-convert:hover {\n",
              "      background-color: #434B5C;\n",
              "      box-shadow: 0px 1px 3px 1px rgba(0, 0, 0, 0.15);\n",
              "      filter: drop-shadow(0px 1px 2px rgba(0, 0, 0, 0.3));\n",
              "      fill: #FFFFFF;\n",
              "    }\n",
              "  </style>\n",
              "\n",
              "    <script>\n",
              "      const buttonEl =\n",
              "        document.querySelector('#df-7da8b1cf-d09a-48b8-b5b2-8ac0eb2bc594 button.colab-df-convert');\n",
              "      buttonEl.style.display =\n",
              "        google.colab.kernel.accessAllowed ? 'block' : 'none';\n",
              "\n",
              "      async function convertToInteractive(key) {\n",
              "        const element = document.querySelector('#df-7da8b1cf-d09a-48b8-b5b2-8ac0eb2bc594');\n",
              "        const dataTable =\n",
              "          await google.colab.kernel.invokeFunction('convertToInteractive',\n",
              "                                                    [key], {});\n",
              "        if (!dataTable) return;\n",
              "\n",
              "        const docLinkHtml = 'Like what you see? Visit the ' +\n",
              "          '<a target=\"_blank\" href=https://colab.research.google.com/notebooks/data_table.ipynb>data table notebook</a>'\n",
              "          + ' to learn more about interactive tables.';\n",
              "        element.innerHTML = '';\n",
              "        dataTable['output_type'] = 'display_data';\n",
              "        await google.colab.output.renderOutput(dataTable, element);\n",
              "        const docLink = document.createElement('div');\n",
              "        docLink.innerHTML = docLinkHtml;\n",
              "        element.appendChild(docLink);\n",
              "      }\n",
              "    </script>\n",
              "  </div>\n",
              "\n",
              "\n",
              "    <div id=\"df-9fea2222-5b06-47d2-8183-65fa11e7f972\">\n",
              "      <button class=\"colab-df-quickchart\" onclick=\"quickchart('df-9fea2222-5b06-47d2-8183-65fa11e7f972')\"\n",
              "                title=\"Suggest charts\"\n",
              "                style=\"display:none;\">\n",
              "\n",
              "<svg xmlns=\"http://www.w3.org/2000/svg\" height=\"24px\"viewBox=\"0 0 24 24\"\n",
              "     width=\"24px\">\n",
              "    <g>\n",
              "        <path d=\"M19 3H5c-1.1 0-2 .9-2 2v14c0 1.1.9 2 2 2h14c1.1 0 2-.9 2-2V5c0-1.1-.9-2-2-2zM9 17H7v-7h2v7zm4 0h-2V7h2v10zm4 0h-2v-4h2v4z\"/>\n",
              "    </g>\n",
              "</svg>\n",
              "      </button>\n",
              "\n",
              "<style>\n",
              "  .colab-df-quickchart {\n",
              "      --bg-color: #E8F0FE;\n",
              "      --fill-color: #1967D2;\n",
              "      --hover-bg-color: #E2EBFA;\n",
              "      --hover-fill-color: #174EA6;\n",
              "      --disabled-fill-color: #AAA;\n",
              "      --disabled-bg-color: #DDD;\n",
              "  }\n",
              "\n",
              "  [theme=dark] .colab-df-quickchart {\n",
              "      --bg-color: #3B4455;\n",
              "      --fill-color: #D2E3FC;\n",
              "      --hover-bg-color: #434B5C;\n",
              "      --hover-fill-color: #FFFFFF;\n",
              "      --disabled-bg-color: #3B4455;\n",
              "      --disabled-fill-color: #666;\n",
              "  }\n",
              "\n",
              "  .colab-df-quickchart {\n",
              "    background-color: var(--bg-color);\n",
              "    border: none;\n",
              "    border-radius: 50%;\n",
              "    cursor: pointer;\n",
              "    display: none;\n",
              "    fill: var(--fill-color);\n",
              "    height: 32px;\n",
              "    padding: 0;\n",
              "    width: 32px;\n",
              "  }\n",
              "\n",
              "  .colab-df-quickchart:hover {\n",
              "    background-color: var(--hover-bg-color);\n",
              "    box-shadow: 0 1px 2px rgba(60, 64, 67, 0.3), 0 1px 3px 1px rgba(60, 64, 67, 0.15);\n",
              "    fill: var(--button-hover-fill-color);\n",
              "  }\n",
              "\n",
              "  .colab-df-quickchart-complete:disabled,\n",
              "  .colab-df-quickchart-complete:disabled:hover {\n",
              "    background-color: var(--disabled-bg-color);\n",
              "    fill: var(--disabled-fill-color);\n",
              "    box-shadow: none;\n",
              "  }\n",
              "\n",
              "  .colab-df-spinner {\n",
              "    border: 2px solid var(--fill-color);\n",
              "    border-color: transparent;\n",
              "    border-bottom-color: var(--fill-color);\n",
              "    animation:\n",
              "      spin 1s steps(1) infinite;\n",
              "  }\n",
              "\n",
              "  @keyframes spin {\n",
              "    0% {\n",
              "      border-color: transparent;\n",
              "      border-bottom-color: var(--fill-color);\n",
              "      border-left-color: var(--fill-color);\n",
              "    }\n",
              "    20% {\n",
              "      border-color: transparent;\n",
              "      border-left-color: var(--fill-color);\n",
              "      border-top-color: var(--fill-color);\n",
              "    }\n",
              "    30% {\n",
              "      border-color: transparent;\n",
              "      border-left-color: var(--fill-color);\n",
              "      border-top-color: var(--fill-color);\n",
              "      border-right-color: var(--fill-color);\n",
              "    }\n",
              "    40% {\n",
              "      border-color: transparent;\n",
              "      border-right-color: var(--fill-color);\n",
              "      border-top-color: var(--fill-color);\n",
              "    }\n",
              "    60% {\n",
              "      border-color: transparent;\n",
              "      border-right-color: var(--fill-color);\n",
              "    }\n",
              "    80% {\n",
              "      border-color: transparent;\n",
              "      border-right-color: var(--fill-color);\n",
              "      border-bottom-color: var(--fill-color);\n",
              "    }\n",
              "    90% {\n",
              "      border-color: transparent;\n",
              "      border-bottom-color: var(--fill-color);\n",
              "    }\n",
              "  }\n",
              "</style>\n",
              "\n",
              "      <script>\n",
              "        async function quickchart(key) {\n",
              "          const quickchartButtonEl =\n",
              "            document.querySelector('#' + key + ' button');\n",
              "          quickchartButtonEl.disabled = true;  // To prevent multiple clicks.\n",
              "          quickchartButtonEl.classList.add('colab-df-spinner');\n",
              "          try {\n",
              "            const charts = await google.colab.kernel.invokeFunction(\n",
              "                'suggestCharts', [key], {});\n",
              "          } catch (error) {\n",
              "            console.error('Error during call to suggestCharts:', error);\n",
              "          }\n",
              "          quickchartButtonEl.classList.remove('colab-df-spinner');\n",
              "          quickchartButtonEl.classList.add('colab-df-quickchart-complete');\n",
              "        }\n",
              "        (() => {\n",
              "          let quickchartButtonEl =\n",
              "            document.querySelector('#df-9fea2222-5b06-47d2-8183-65fa11e7f972 button');\n",
              "          quickchartButtonEl.style.display =\n",
              "            google.colab.kernel.accessAllowed ? 'block' : 'none';\n",
              "        })();\n",
              "      </script>\n",
              "    </div>\n",
              "\n",
              "    </div>\n",
              "  </div>\n"
            ],
            "application/vnd.google.colaboratory.intrinsic+json": {
              "type": "dataframe",
              "summary": "{\n  \"name\": \"datos\",\n  \"rows\": 3,\n  \"fields\": [\n    {\n      \"column\": \"airline\",\n      \"properties\": {\n        \"dtype\": \"string\",\n        \"num_unique_values\": 3,\n        \"samples\": [\n          \"BZ\",\n          \"MM\",\n          \"YE\"\n        ],\n        \"semantic_type\": \"\",\n        \"description\": \"\"\n      }\n    },\n    {\n      \"column\": \"delay\",\n      \"properties\": {\n        \"dtype\": \"number\",\n        \"std\": 18.851094071356187,\n        \"min\": 3.0775946461513883,\n        \"max\": 40.49800654368015,\n        \"num_unique_values\": 3,\n        \"samples\": [\n          3.0775946461513883,\n          40.49800654368015,\n          25.772248251219875\n        ],\n        \"semantic_type\": \"\",\n        \"description\": \"\"\n      }\n    }\n  ]\n}"
            }
          },
          "metadata": {},
          "execution_count": 45
        }
      ]
    },
    {
      "cell_type": "code",
      "source": [
        "# Creamos un DataFrame con el retraso promedio por aerolínea\n",
        "avg_delay = datos.groupby('airline')['delay'].mean().reset_index() # average delay o  promedio de retraso\n",
        "\n",
        "# Gráfico de barras: aerolínea vs retraso promedio\n",
        "sns.barplot(x='airline', y='delay', data= avg_delay)\n",
        "plt.title('Compañías aéreas vs Atraso promedio')\n",
        "plt.xlabel('Compañía aérea')\n",
        "plt.ylabel('Atraso promedio en minutos')\n",
        "plt.show()\n",
        "\n",
        "print('\\n')\n",
        "\n",
        "# Gráfico de barras de cantidad de vuelos por aerolínea\n",
        "sns.countplot(data=datos, x='airline')\n",
        "plt.title('Número de vuelos por compañía aérea')\n",
        "plt.xlabel('Compañía aérea')\n",
        "plt.ylabel('Número de vuelos')\n",
        "plt.show()"
      ],
      "metadata": {
        "id": "UGeedJ8owsGv",
        "outputId": "3fc56cce-a7d9-4cb2-fd23-f90477cb0ee1",
        "colab": {
          "base_uri": "https://localhost:8080/",
          "height": 1000
        }
      },
      "execution_count": 59,
      "outputs": [
        {
          "output_type": "display_data",
          "data": {
            "text/plain": [
              "<Figure size 800x550 with 1 Axes>"
            ],
            "image/png": "[encoded data removed]"
          },
          "metadata": {}
        },
        {
          "output_type": "stream",
          "name": "stdout",
          "text": [
            "\n",
            "\n"
          ]
        },
        {
          "output_type": "display_data",
          "data": {
            "text/plain": [
              "<Figure size 800x550 with 1 Axes>"
            ],
            "image/png": "[encoded data removed]"
          },
          "metadata": {}
        }
      ]
    },
    {
      "cell_type": "code",
      "source": [
        "# Retraso promedio por tipo de vuelo (schengen / non-schengen)\n",
        "\n",
        "avg_delay = datos.groupby('schengen')['delay'].mean().reset_index()\n",
        "\n",
        "sns.barplot(x='schengen', y='delay', data= avg_delay)\n",
        "plt.title('Tipo de vuelo vs Atraso promedio')\n",
        "plt.xlabel('Tipo de vuelo')\n",
        "plt.ylabel('Atraso promedio en minutos')\n",
        "plt.show()\n",
        "\n",
        "print('\\n')\n",
        "\n",
        "# Número de vuelos por tipo de vuelo\n",
        "sns.countplot(data=datos, x='schengen')\n",
        "plt.title('Número de vuelos por Tipo')\n",
        "plt.xlabel('Tipo de vuelo')\n",
        "plt.ylabel('Número de vuelos')\n",
        "plt.show()"
      ],
      "metadata": {
        "id": "zv17dbnu2OqI",
        "outputId": "0d3717b6-881f-47a3-aeeb-bfcb7595b57c",
        "colab": {
          "base_uri": "https://localhost:8080/",
          "height": 1000
        }
      },
      "execution_count": 48,
      "outputs": [
        {
          "output_type": "display_data",
          "data": {
            "text/plain": [
              "<Figure size 800x550 with 1 Axes>"
            ],
            "image/png": "[encoded data removed]"
          },
          "metadata": {}
        },
        {
          "output_type": "stream",
          "name": "stdout",
          "text": [
            "\n",
            "\n"
          ]
        },
        {
          "output_type": "display_data",
          "data": {
            "text/plain": [
              "<Figure size 800x550 with 1 Axes>"
            ],
            "image/png": "[encoded data removed]"
          },
          "metadata": {}
        }
      ]
    },
    {
      "cell_type": "code",
      "source": [
        "# Retraso promedio en días festivos vs no festivos\n",
        "avg_delay = datos.groupby('is_holiday')['delay'].mean().reset_index() # average delay o  promedio de retraso\n",
        "\n",
        "sns.barplot(x='is_holiday', y='delay', data= avg_delay)\n",
        "plt.title('Días feriados vs Atraso promedio')\n",
        "plt.xlabel('Días feriados')\n",
        "plt.ylabel('Atraso promedio en minutos')\n",
        "plt.show()"
      ],
      "metadata": {
        "id": "V5sESi_v3Hmf",
        "outputId": "eb7abf1e-6b42-4745-e9ac-f2730949bb6b",
        "colab": {
          "base_uri": "https://localhost:8080/",
          "height": 524
        }
      },
      "execution_count": 51,
      "outputs": [
        {
          "output_type": "display_data",
          "data": {
            "text/plain": [
              "<Figure size 800x550 with 1 Axes>"
            ],
            "image/png": "[encoded data removed]"
          },
          "metadata": {}
        }
      ]
    },
    {
      "cell_type": "code",
      "source": [
        "# .value_counts: Devuelve una Serie que contiene los conteos de valores únicos en la columna 'aircraft_type'.\n",
        "# .index: Obtienes un objeto Index que contiene los valores únicos de 'aircraft_type' ordenados según sus conteos.\n",
        "datos['aircraft_type'].value_counts().index\n",
        "# 'Airbus A320', 'Airbus A330', 'Boeing 787', 'Embraer E175', 'Boeing 737', 'Boeing 777'"
      ],
      "metadata": {
        "id": "4H8HtPjN4hkY",
        "outputId": "5a492d4c-10a7-4554-b048-912e1a947d0b",
        "colab": {
          "base_uri": "https://localhost:8080/"
        }
      },
      "execution_count": 54,
      "outputs": [
        {
          "output_type": "execute_result",
          "data": {
            "text/plain": [
              "Index(['Airbus A320', 'Airbus A330', 'Boeing 787', 'Embraer E175',\n",
              "       'Boeing 737', 'Boeing 777'],\n",
              "      dtype='object', name='aircraft_type')"
            ]
          },
          "metadata": {},
          "execution_count": 54
        }
      ]
    },
    {
      "cell_type": "code",
      "source": [
        "# Conteo de vuelos por tipo de aeronave\n",
        "# value_counts() devuelve el conteo de cada categoría\n",
        "datos['aircraft_type'].value_counts()"
      ],
      "metadata": {
        "id": "Mi7m5CBd4vS6",
        "outputId": "f25fec1c-e171-4efd-d17a-da0bd36d1262",
        "colab": {
          "base_uri": "https://localhost:8080/",
          "height": 303
        }
      },
      "execution_count": 55,
      "outputs": [
        {
          "output_type": "execute_result",
          "data": {
            "text/plain": [
              "aircraft_type\n",
              "Airbus A320     30778\n",
              "Airbus A330     16654\n",
              "Boeing 787       9606\n",
              "Embraer E175     7098\n",
              "Boeing 737       4722\n",
              "Boeing 777       2317\n",
              "Name: count, dtype: int64"
            ],
            "text/html": [
              "<div>\n",
              "<style scoped>\n",
              "    .dataframe tbody tr th:only-of-type {\n",
              "        vertical-align: middle;\n",
              "    }\n",
              "\n",
              "    .dataframe tbody tr th {\n",
              "        vertical-align: top;\n",
              "    }\n",
              "\n",
              "    .dataframe thead th {\n",
              "        text-align: right;\n",
              "    }\n",
              "</style>\n",
              "<table border=\"1\" class=\"dataframe\">\n",
              "  <thead>\n",
              "    <tr style=\"text-align: right;\">\n",
              "      <th></th>\n",
              "      <th>count</th>\n",
              "    </tr>\n",
              "    <tr>\n",
              "      <th>aircraft_type</th>\n",
              "      <th></th>\n",
              "    </tr>\n",
              "  </thead>\n",
              "  <tbody>\n",
              "    <tr>\n",
              "      <th>Airbus A320</th>\n",
              "      <td>30778</td>\n",
              "    </tr>\n",
              "    <tr>\n",
              "      <th>Airbus A330</th>\n",
              "      <td>16654</td>\n",
              "    </tr>\n",
              "    <tr>\n",
              "      <th>Boeing 787</th>\n",
              "      <td>9606</td>\n",
              "    </tr>\n",
              "    <tr>\n",
              "      <th>Embraer E175</th>\n",
              "      <td>7098</td>\n",
              "    </tr>\n",
              "    <tr>\n",
              "      <th>Boeing 737</th>\n",
              "      <td>4722</td>\n",
              "    </tr>\n",
              "    <tr>\n",
              "      <th>Boeing 777</th>\n",
              "      <td>2317</td>\n",
              "    </tr>\n",
              "  </tbody>\n",
              "</table>\n",
              "</div><br><label><b>dtype:</b> int64</label>"
            ]
          },
          "metadata": {},
          "execution_count": 55
        }
      ]
    },
    {
      "cell_type": "code",
      "source": [
        "# value_counts().index devuelve solo el orden de las categorías por frecuencia\n",
        "order = datos['aircraft_type'].value_counts().index\n",
        "\n",
        "# Gráfico de número de vuelos por tipo de aeronave (ordenado por frecuencia)\n",
        "sns.countplot(data=datos, x='aircraft_type', order = order)\n",
        "plt.title('Número de vuelos por Tipo de Aeronave')\n",
        "plt.xticks(rotation=70)\n",
        "plt.xlabel('Tipo de Aeronave')\n",
        "plt.ylabel('Número de vuelos')\n",
        "plt.show()"
      ],
      "metadata": {
        "id": "8HG1U-1T4J1k",
        "outputId": "280bb1de-a543-40fe-e08e-2b70958c1a78",
        "colab": {
          "base_uri": "https://localhost:8080/",
          "height": 599
        }
      },
      "execution_count": 57,
      "outputs": [
        {
          "output_type": "display_data",
          "data": {
            "text/plain": [
              "<Figure size 800x550 with 1 Axes>"
            ],
            "image/png": "[encoded data removed]"
          },
          "metadata": {}
        }
      ]
    },
    {
      "cell_type": "markdown",
      "source": [
        "**Análisis y descripción**\n",
        "\n",
        "**¿Qué hace?**\n",
        "\n",
        "* Agrupa los datos por variables categóricas (airline, schengen, is_holiday, aircraft_type) para calcular el retraso promedio.\n",
        "\n",
        "* Genera gráficos comparativos para:\n",
        "\n",
        ">* Retraso promedio por aerolínea, tipo de vuelo y días festivos.\n",
        ">\n",
        ">* Número de vuelos por aerolínea, tipo de vuelo y tipo de aeronave.\n",
        "\n",
        "**¿Qué se identificó?**\n",
        "\n",
        "**Aerolíneas:**\n",
        "\n",
        "* **MM:** mayor retraso promedio (~40 min).\n",
        "\n",
        "* **YE:** retraso intermedio (~25 min).\n",
        "\n",
        "* **BZ:** menor retraso promedio (~3 min), pero con más vuelos que las demás.\n",
        "\n",
        "**Tipo de vuelo:**\n",
        "\n",
        "* **non-schengen:** retraso promedio mayor (~15 min).\n",
        "\n",
        "* **schengen:** menor retraso (~11 min) pero más vuelos.\n",
        "\n",
        "**Días festivos:**\n",
        "\n",
        "* Retrasos mucho mayores (~41 min) comparado con días normales (~11 min).\n",
        "\n",
        "**Tipo de aeronave:**\n",
        "\n",
        "* **Más frecuente:** Airbus A320 (30.778 vuelos).\n",
        "\n",
        "* **Menos frecuente:** Boeing 777 (2.317 vuelos).\n",
        "\n",
        "**¿Qué se puede hacer?**\n",
        "\n",
        "* **Aerolíneas:** investigar causas operativas por las que MM y YE tienen más retrasos.\n",
        "\n",
        "* **Tipo de vuelo:** evaluar si la complejidad operativa de vuelos internacionales (non-schengen) influye en los retrasos.\n",
        "\n",
        "* **Festivos:** planificar recursos extra en días festivos para reducir retrasos.\n",
        "\n",
        "* **Aeronaves:** analizar si ciertos modelos (p. ej. Airbus A320) tienen mejor puntualidad debido a su alta frecuencia.\n",
        "\n",
        "**Conclusión breve**\n",
        "\n",
        "* La aerolínea BZ es la más puntual y con más vuelos.\n",
        "\n",
        "* Los vuelos non-schengen y en días festivos presentan mayores retrasos, lo que puede servir como variable predictora clave en el modelo de Machine Learning.\n",
        "\n",
        "* Se confirma que el tipo de aeronave y la aerolínea podrían ser factores importantes para predecir retrasos."
      ],
      "metadata": {
        "id": "GxwstV5o8r8F"
      }
    },
    {
      "cell_type": "markdown",
      "source": [
        "### <font color='#6595F6'>**Analizando la distribución de los datos**</h3>"
      ],
      "metadata": {
        "id": "llfso_MusrKD"
      }
    },
    {
      "cell_type": "markdown",
      "source": [
        "Para determinar el ancho de los bins en un histograma:\n",
        "https://en.wikipedia.org/wiki/Freedman%E2%80%93Diaconis_rule"
      ],
      "metadata": {
        "id": "2Q0XG8Q9AMeV"
      }
    },
    {
      "cell_type": "markdown",
      "source": [
        "**Descripción de métodos nuevos antes de los código**\n",
        "\n",
        "* **`np.percentile():`** Calcula el percentil especificado de un array.\n",
        "Ejemplo: np.percentile(columna, 75) devuelve el valor del percentil 75.\n",
        "\n",
        "* **`IQR (Interquartile Range):`** Diferencia entre percentil 75 (Q3) y percentil 25 (Q1). Mide la dispersión central de los datos.\n",
        "\n",
        "* **`np.power(a, b):`** Eleva a a la potencia b.\n",
        "\n",
        "* **`Regla de Freedman-Diaconis:`** Fórmula estadística para calcular el ancho óptimo de los bins en un histograma:\n",
        "ancho = 2 * IQR * n^(-1/3), donde n es el número de observaciones.\n",
        "\n",
        "* **`plt.axhline():`** Dibuja una línea horizontal en el gráfico.\n",
        "\n",
        "* **`plt.axvline():`** Dibuja una línea vertical en el gráfico.\n",
        "\n",
        "* **`plt.tight_layout():`** Ajusta automáticamente el espaciado de los elementos de la figura para evitar solapamientos."
      ],
      "metadata": {
        "id": "2Oc7U95qJDrq"
      }
    },
    {
      "cell_type": "code",
      "source": [
        "# El ancho de este gráfico no es el más correcto\n",
        "# Para ello utilizaremos la regla de Freedman Diaconis, para determinar el ancho de los bins\n",
        "\n",
        "# Histograma inicial del horario de llegada (arrival_time) con curva KDE (densidad)\n",
        "sns.histplot(data=datos, x='arrival_time',kde=True);"
      ],
      "metadata": {
        "colab": {
          "base_uri": "https://localhost:8080/",
          "height": 503
        },
        "id": "e_vn47GwsrRm",
        "outputId": "c72e7309-7501-48f9-debd-7176954c14de"
      },
      "execution_count": 61,
      "outputs": [
        {
          "output_type": "display_data",
          "data": {
            "text/plain": [
              "<Figure size 800x550 with 1 Axes>"
            ],
            "image/png": "[encoded data removed]"
          },
          "metadata": {}
        }
      ]
    },
    {
      "cell_type": "code",
      "source": [
        "import numpy as np"
      ],
      "metadata": {
        "id": "3R3cs6M3An2j"
      },
      "execution_count": 62,
      "outputs": []
    },
    {
      "cell_type": "code",
      "source": [
        "# Función para determinar el ancho óptimo de los bins usando la regla de Freedman-Diaconis\n",
        "def ancho_bin(df,columna):\n",
        "  q75,q25 = np.percentile(df[columna],[75,25])\n",
        "  iqr = q75 - q25\n",
        "  ancho = 2 * iqr * np.power(len(df[columna]), -1/3)\n",
        "  return ancho"
      ],
      "metadata": {
        "id": "L0AldJTIAxCw"
      },
      "execution_count": 67,
      "outputs": []
    },
    {
      "cell_type": "code",
      "source": [
        "# Histograma del horario de llegada con binwidth optimizado\n",
        "binwidth = ancho_bin(datos,'arrival_time')\n",
        "sns.histplot(data=datos, x='arrival_time',kde=True, binwidth=binwidth);"
      ],
      "metadata": {
        "id": "kMSwqPSQB_7Z",
        "outputId": "a74de42f-31a9-440f-8be7-15228bc8a62c",
        "colab": {
          "base_uri": "https://localhost:8080/",
          "height": 503
        }
      },
      "execution_count": 69,
      "outputs": [
        {
          "output_type": "display_data",
          "data": {
            "text/plain": [
              "<Figure size 800x550 with 1 Axes>"
            ],
            "image/png": "[encoded data removed]"
          },
          "metadata": {}
        }
      ]
    },
    {
      "cell_type": "code",
      "source": [
        "# Histograma del horario de salida con binwidth optimizado\n",
        "binwidth = ancho_bin(datos,'departure_time')\n",
        "sns.histplot(data=datos, x='departure_time',kde=True, binwidth=binwidth);"
      ],
      "metadata": {
        "id": "gAYUs-a3DCyz",
        "outputId": "a72d6521-7e9b-4375-eb59-e6e19880272c",
        "colab": {
          "base_uri": "https://localhost:8080/",
          "height": 503
        }
      },
      "execution_count": 71,
      "outputs": [
        {
          "output_type": "display_data",
          "data": {
            "text/plain": [
              "<Figure size 800x550 with 1 Axes>"
            ],
            "image/png": "[encoded data removed]"
          },
          "metadata": {}
        }
      ]
    },
    {
      "cell_type": "code",
      "source": [
        "# Gráfico de distribución de la variable respuesta (retrasos en los vuelos)\n",
        "\n",
        "# Calculamos estadísticas de la variable delay\n",
        "atraso_promedio = datos['delay'].mean() # Almacenamos el atraso promedio\n",
        "atraso_mediana = datos['delay'].median() # Almacenamos la mediana de los atrasos\n",
        "\n",
        "# Boxplot de 'delay'\n",
        "fix, ax = plt.subplots(1,2, figsize=(9,4)) # 2 gráficos lado a lado\n",
        "sns.boxplot(data=datos, y='delay', ax=ax[0]) # este será el primer gráfico (izquierda)\n",
        "ax[0].set_title('Boxplot')\n",
        "ax[0].axhline(y=atraso_promedio, color = 'r', linestyle='--', label='Promedio')\n",
        "ax[0].legend()\n",
        "\n",
        "\n",
        "# Histograma de 'delay'\n",
        "binwidth = ancho_bin (datos, 'delay')\n",
        "\n",
        "sns.histplot(data=datos, x='delay', ax=ax[1], kde=True, binwidth=binwidth) # ese será el segundo gráfico (derecha)\n",
        "plt.ylabel('Número de vuelos')\n",
        "plt.grid(False)\n",
        "ax[1].set_title('Histograma')\n",
        "ax[1].axvline(x=atraso_promedio, color = 'r', linestyle='--', label='Promedio')\n",
        "ax[1].axvline(x=atraso_mediana, color = 'y', linestyle='--', label='Mediana')\n",
        "ax[1].legend()\n",
        "\n",
        "plt.tight_layout()\n",
        "plt.show()"
      ],
      "metadata": {
        "id": "cykyVZ1mD-QL",
        "outputId": "609c1c04-5190-43ca-9e4f-cf1f86574242",
        "colab": {
          "base_uri": "https://localhost:8080/",
          "height": 401
        }
      },
      "execution_count": 74,
      "outputs": [
        {
          "output_type": "display_data",
          "data": {
            "text/plain": [
              "<Figure size 900x400 with 2 Axes>"
            ],
            "image/png": "[encoded data removed]"
          },
          "metadata": {}
        }
      ]
    },
    {
      "cell_type": "markdown",
      "source": [
        "**Análisis y descripción**\n",
        "\n",
        "**¿Qué hace?**\n",
        "\n",
        "* Crea histogramas de arrival_time, departure_time y delay usando un ancho de bin calculado con la regla de Freedman-Diaconis para mejorar la representación de la distribución.\n",
        "\n",
        "* Compara la distribución de delay en dos formas:\n",
        "\n",
        ">* Boxplot: para visualizar mediana, dispersión y outliers.\n",
        ">\n",
        ">* Histograma: para ver la forma de la distribución y compararla con promedio y mediana.\n",
        "\n",
        "**¿Qué se identificó?**\n",
        "\n",
        "* **Horarios de llegada y salida:**\n",
        "\n",
        ">* Picos marcados alrededor de ciertas horas específicas (posibles horarios punta).\n",
        ">\n",
        ">* Distribución bimodal, lo que indica más de un bloque horario de alta actividad.\n",
        "\n",
        "* **Retrasos (delay):**\n",
        "\n",
        ">* Promedio ≈ 12 min, mediana ≈ ligeramente menor.\n",
        ">\n",
        ">* Muchos valores cercanos a cero, pero con presencia de retrasos altos (outliers).\n",
        ">\n",
        ">* Valores negativos (adelantos) también presentes.\n",
        "\n",
        "* **Dispersión y outliers:**\n",
        "\n",
        ">* El boxplot muestra una gran cantidad de outliers por encima de 75 minutos.\n",
        ">\n",
        ">* Distribución asimétrica hacia la derecha (cola larga positiva).\n",
        "\n",
        "**¿Qué se puede hacer?**\n",
        "\n",
        "* Analizar la causa de los picos en horas específicas para llegada y salida.\n",
        "\n",
        "* Investigar los vuelos con retrasos extremos para identificar patrones.\n",
        "\n",
        "* Decidir si se transformará delay en variable binaria (retrasado/no retrasado) para clasificación.\n",
        "\n",
        "* Considerar si se deben recortar outliers o aplicar transformaciones para el modelo.\n",
        "\n",
        "**Conclusión breve**\n",
        "\n",
        "* Hay horarios de mayor actividad que podrían asociarse a más retrasos.\n",
        "\n",
        "* Los retrasos no siguen una distribución normal, tienen asimetría y outliers, lo que influirá en cómo se entrene el modelo de predicción."
      ],
      "metadata": {
        "id": "YcdS-WcUJ_5b"
      }
    },
    {
      "cell_type": "markdown",
      "source": [
        "---\n",
        "**En esta clase, aprendiste a:**\n",
        "* Analizar las estadísticas descriptivas de los datos;\n",
        "* Obtener información relevante de los datos, como la cantidad de datos nulos y el tipo de las columnas;\n",
        "* Construir el análisis gráfico de los datos;\n",
        "* Construir la visualización gráfica de la distribución de los datos.\n",
        "---"
      ],
      "metadata": {
        "id": "7UkQHt0hLoMh"
      }
    },
    {
      "cell_type": "markdown",
      "source": [
        "## <font color='#276CF2'>**2. Feature Engineering**</h2>"
      ],
      "metadata": {
        "id": "raEf7VeUMucY"
      }
    },
    {
      "cell_type": "markdown",
      "source": [
        "### <font color='#6595F6'>**Creando nuevas columnas**</h3>"
      ],
      "metadata": {
        "id": "RllLpvKpM8BH"
      }
    },
    {
      "cell_type": "code",
      "source": [],
      "metadata": {
        "id": "l4wpTPi_M8Jp"
      },
      "execution_count": null,
      "outputs": []
    },
    {
      "cell_type": "markdown",
      "source": [
        "### <font color='#6595F6'>**Feature encoding**</h3>"
      ],
      "metadata": {
        "id": "K4shGHXAM-mP"
      }
    },
    {
      "cell_type": "code",
      "source": [],
      "metadata": {
        "id": "QEsCEdDsM-sK"
      },
      "execution_count": null,
      "outputs": []
    },
    {
      "cell_type": "markdown",
      "source": [
        "### <font color='#6595F6'>**Limpiando los datos**</h3>"
      ],
      "metadata": {
        "id": "6K3zS2VFM-y_"
      }
    },
    {
      "cell_type": "code",
      "source": [],
      "metadata": {
        "id": "_wBnQFQUM-4h"
      },
      "execution_count": null,
      "outputs": []
    }
  ]
}